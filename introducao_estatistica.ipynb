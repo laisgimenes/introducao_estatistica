{
 "cells": [
  {
   "cell_type": "markdown",
   "id": "33c4702e",
   "metadata": {},
   "source": [
    "# 1. Introdução\n",
    "\n",
    "<hr></hr>"
   ]
  },
  {
   "cell_type": "markdown",
   "id": "6963e705",
   "metadata": {},
   "source": [
    "### O que é Estatística?"
   ]
  },
  {
   "cell_type": "markdown",
   "id": "c65a1498",
   "metadata": {},
   "source": [
    "A **Estatística** lida com a coleta, análise, interpretação, apresentação e organização dos dados. Através da Estatística extraimos informações valiosas de conjuntos de dados, e assim, será possível a tomada de decisão, realização de previsões mais acertivas. A Estatística é dividida em: **Estatística Descritiva** e **Estatística Inferencial**.   "
   ]
  },
  {
   "cell_type": "markdown",
   "id": "4c95a2d6",
   "metadata": {},
   "source": [
    "**Estatística Descritiva:** Utilizada para organizar, resumir e apresentar dados de maneira eficiente, através de gráficos, tabelas de frequências e medidas resumo."
   ]
  },
  {
   "cell_type": "markdown",
   "id": "7b2ed4e8",
   "metadata": {},
   "source": [
    "**Estatística Inferencial:** Utilizada para fazer generalizações e previsões sobre determinada população, através de dados amostrais, ou seja, ela permite fazer inferências sobre uma dada população. Através da Estatística Inferencial podemos fazer teste de hipóteses, construir intervalos de confiança, análise de regressão, entre outras técnicas."
   ]
  },
  {
   "cell_type": "markdown",
   "id": "039a5e3b",
   "metadata": {},
   "source": [
    "### Diferença entre população e amostra"
   ]
  },
  {
   "cell_type": "markdown",
   "id": "d4ad072e",
   "metadata": {},
   "source": [
    "A **população** diz respeito a todo o conjunto de dados, é a população-alvo ou universo. Envolve todos os elementos sob investigação, que está sendo estudada. \n",
    "\n",
    "- **Exemplo**: É de interesse do pesquisador a média geral de alunos de determinada faculdade, se temos a média de todos os alunos, então temos um valor proveniente da população, pois contém todos os elementos da população estudada."
   ]
  },
  {
   "cell_type": "markdown",
   "id": "307f7b73",
   "metadata": {},
   "source": [
    "A **Amostra** diz respeito a qualquer subconjunto retirado da população.\n",
    "\n",
    "- **Exemplo**: Se temos a média de somente alguns alunos de determinada faculdade, essa seria uma amostra. "
   ]
  },
  {
   "cell_type": "markdown",
   "id": "a5dcb7e2",
   "metadata": {},
   "source": [
    "### Diferença entre estatística e parâmetro"
   ]
  },
  {
   "cell_type": "markdown",
   "id": "96615edd",
   "metadata": {},
   "source": [
    "O **parâmetro** é um valor numérico que descreve uma característica da população. Ele é um valor fixo e desconhecido, pois geralmente é muito difícil analisar toda uma população. O parâmetro é uma informação valiosa da população e é o objetivo final ao qual se quer chegar em diversas análises estatísticas.\n",
    "\n",
    "- **Exemplo**: O curso de Estatística de determinada faculdade possui um total de 1000 alunos e cerca de 42% deles já tiveram contato com programação antes da faculdade.\n",
    "**Obs:** 42% é um parâmetro, pois foi calculado de toda a população."
   ]
  },
  {
   "cell_type": "markdown",
   "id": "31986d0c",
   "metadata": {},
   "source": [
    "A **estatística** é um valor numérico que é calculado a partir de uma amostra selecionada da população. Ela é utilizada para estimar parâmetros da população. Em amostras diferentes essa estatística terá valor diferente, logo é uma variável aleatória, já que seu valor varia. \n",
    "\n",
    "- **Exemplo**: De 1500 brasileiros entrevistados, 35% disseram que vão votar no candidato A.\n",
    "**Obs**: 35% é uma estatística, pois foi calculada a partir de uma amostra da população de brasileiros."
   ]
  },
  {
   "cell_type": "markdown",
   "id": "cb1445b3",
   "metadata": {},
   "source": [
    "### O que é uma variável?"
   ]
  },
  {
   "cell_type": "markdown",
   "id": "c30d8289",
   "metadata": {},
   "source": [
    "Uma **variável** é uma característica associada a um resultado que queremos inferir sobre uma população/amostra (BUSSAB; MORETTIN, 2004). \n",
    "\n",
    "São as características ou atributos medidos, registrados para cada observação. Para um conjunto de dados geralmente as variáveis são organizadas em colunas."
   ]
  },
  {
   "cell_type": "markdown",
   "id": "917e1c1c",
   "metadata": {},
   "source": [
    "### Tipos de variáveis"
   ]
  },
  {
   "cell_type": "markdown",
   "id": "31c74a4f",
   "metadata": {},
   "source": [
    "As variáveis se dividem em dois tipos:\n",
    "\n",
    "- **Qualitativas(ou categóricas)**: utilizam termos descritivos, características, qualidades que descrevem algo de interesse. \n",
    "- **Quantitativas**: são representadas por valores numéricos, ou seja, podem ser contados e mensurados.\n",
    "\n",
    "Dentro desta classificação podemos ter:\n",
    "\n",
    "- **Qualitativa nominal**: não possui uma ordenação entre as categorias, por exemplo, a variável gênero de uma pessoa.\n",
    "- **Qualitativa ordinal**: possui uma ordenação entre as categorias, por exemplo, a variável escolaridade: ensino fundamental, ensino médio, ensino superior.\n",
    "<br></br>\n",
    "- **Quantitativa discreta**: os valores são numéricos, podem ser contados, assumem valores inteiros, por exemplo, a variável número de filhos.\n",
    "- **Quantitativa contínua**: os valores são numéricos, podem ser observados quaisquer valores dentro de uma intervalo, assumem valores em uma escala contínua, valores numéricos reais.\n"
   ]
  },
  {
   "cell_type": "markdown",
   "id": "adb05c2c",
   "metadata": {},
   "source": [
    "## Referências:\n",
    "\n",
    "BUSSAB, Wilton de O.; MORETTIN, Pedro A. Estatística Básica. 5ª edição. São Paulo: Editora Saraiva. 2004."
   ]
  }
 ],
 "metadata": {
  "kernelspec": {
   "display_name": "Python 3 (ipykernel)",
   "language": "python",
   "name": "python3"
  },
  "language_info": {
   "codemirror_mode": {
    "name": "ipython",
    "version": 3
   },
   "file_extension": ".py",
   "mimetype": "text/x-python",
   "name": "python",
   "nbconvert_exporter": "python",
   "pygments_lexer": "ipython3",
   "version": "3.9.12"
  }
 },
 "nbformat": 4,
 "nbformat_minor": 5
}
