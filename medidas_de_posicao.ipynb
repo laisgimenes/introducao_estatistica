{
 "cells": [
  {
   "cell_type": "markdown",
   "id": "92446ed2",
   "metadata": {},
   "source": [
    "# 2. Medidas de Posição (ou Têndencia Central)\n",
    "<hr></hr>"
   ]
  },
  {
   "cell_type": "markdown",
   "id": "529607ef",
   "metadata": {},
   "source": [
    "As **medidas de posição** são medidas que resumem os dados, descrevem o centro ou a posição central do conjunto de dados em estudo. As medidas de têndencia central mais comuns são: a **média**, a **mediana** e a **moda**."
   ]
  },
  {
   "cell_type": "markdown",
   "id": "319e0465",
   "metadata": {},
   "source": [
    "## Média"
   ]
  },
  {
   "cell_type": "markdown",
   "id": "567e3296",
   "metadata": {},
   "source": [
    "A **média** é um valor que tem por objetivo resumir os nossos dados em um único ponto, ela generaliza os dados. Ela representa o valor \"típico\" de um conjunto de dados. A média é afetada por valores discrepantes(outliers), logo ela não é adequada em dados que possuem outliers, não será a melhor representação dos centro dos dados.\n",
    "\n",
    "A fórmula para calcular a média é dada por:\n",
    "\n",
    "\n",
    "## $\\bar{X} = \\frac{X_{1} + X_{2} + ... +  X_{n}}{n} = \\frac{\\sum \\limits _{i=1} ^{n} X_{i}}{n} $\n"
   ]
  },
  {
   "cell_type": "code",
   "execution_count": 9,
   "id": "aee5f51a",
   "metadata": {},
   "outputs": [
    {
     "name": "stdout",
     "output_type": "stream",
     "text": [
      "9.166666666666666\n",
      "9.166666666666666\n"
     ]
    }
   ],
   "source": [
    "# Exemplo: Dado as 3 notas de uma aluno do curso de Estatística que são: 9.5, 10 e 8, calcule a sua média.\n",
    "\n",
    "# Criando uma função que calcula a média:\n",
    "def media(valores):\n",
    "    soma = 0\n",
    "    n = len(valores)\n",
    "    \n",
    "    for i in range(0,n):\n",
    "        soma += valores[i]\n",
    "    \n",
    "    media = soma / n\n",
    "    \n",
    "    return media\n",
    "    \n",
    "notas = [9.5, 10, 8]\n",
    "print(media(notas))\n",
    "    \n",
    "\n",
    "# Utilizando a biblioteca Pandas:\n",
    "import pandas as pd\n",
    "\n",
    "notas = pd.DataFrame(notas, columns=['Notas'])\n",
    "\n",
    "media_notas = notas['Notas'].mean()\n",
    "print(media_notas)\n"
   ]
  },
  {
   "cell_type": "markdown",
   "id": "2053f0bb",
   "metadata": {},
   "source": [
    "## Mediana"
   ]
  },
  {
   "cell_type": "markdown",
   "id": "38dc154c",
   "metadata": {},
   "source": [
    "A **mediana** é o valor que separa um conjunto de dados ordenado em duas metades iguais.\n",
    "Se o número total de valores no conjunto de dados é ímpar, a mediana é o valor do meio. Se o\n",
    "número total de valores é par, a mediana é a média dos dois valores centrais. A mediana é menos\n",
    "sensível a valores extremos e pode ser uma medida mais representativa do centro dos dados\n",
    "quando a distribuição é assimétrica ou contém outliers (valores extremos).\n",
    "\n",
    "A fórmula para calcular a mediana é dada por:\n",
    "\n",
    "* Quando n é par:\n",
    "\n",
    "## $ mediana =  \\frac{X_{\\frac{n}{2}} + X_{\\frac{n}{2}+1}}{2} $ \n",
    "\n",
    "\n",
    "* Quando n é ímpar:\n",
    "\n",
    "## $ mediana = X_{\\frac{n+1}{2}}$"
   ]
  },
  {
   "cell_type": "code",
   "execution_count": 10,
   "id": "2312a976",
   "metadata": {},
   "outputs": [],
   "source": [
    "# Verificando se n é par ou impar:\n",
    "def par(n):\n",
    "    if n% 2 == 0:\n",
    "        return True\n",
    "    else:\n",
    "        return False\n",
    "\n",
    "\n",
    "# Funcao para calcular a mediana:\n",
    "\n",
    "def mediana(valores):\n",
    "    # ordenando os dados\n",
    "    valores = sorted(valores)\n",
    "    \n",
    "    # Tamanho dos dados\n",
    "    n = len(valores)\n",
    "    \n",
    "    if par(n):\n",
    "        # primeiro indice\n",
    "        indice_1 = int(n / 2)\n",
    "        \n",
    "        # segundo indice\n",
    "        indice_2 = int((n / 2) + 1)\n",
    "        \n",
    "        # primeiro valor\n",
    "        valor_1 = valores[indice_1 - 1]\n",
    "        \n",
    "        # segundo valor\n",
    "        valor_2 = valores[indice_2 - 1]\n",
    "        \n",
    "        # calculando mediana\n",
    "        mediana = (valor_1 + valor_2) / 2\n",
    "    \n",
    "    else:\n",
    "        #obtendo o indice\n",
    "        indice = int((n + 1)/2)\n",
    "        \n",
    "        # calculando mediana\n",
    "        mediana = valores[indice - 1]\n",
    "        \n",
    "    return mediana"
   ]
  },
  {
   "cell_type": "code",
   "execution_count": 14,
   "id": "118a1c51",
   "metadata": {},
   "outputs": [
    {
     "name": "stdout",
     "output_type": "stream",
     "text": [
      "55.0\n",
      "55.0\n"
     ]
    }
   ],
   "source": [
    "# Exemplo: calcule a mediana de idades que são: 10, 70, 20, 40, 50, 60, 70, 80, 10, 90\n",
    "\n",
    "idades = [10, 70, 20, 40, 50, 60, 70, 80, 10, 90]\n",
    "print(mediana(idades))\n",
    "\n",
    "# Utilizando a biblioteca Pandas:\n",
    "import pandas as pd\n",
    "idades = pd.DataFrame(idades, columns=['Idades'])\n",
    "print(idades['Idades'].median())"
   ]
  },
  {
   "cell_type": "markdown",
   "id": "3a03a25c",
   "metadata": {},
   "source": [
    "## Moda"
   ]
  },
  {
   "cell_type": "markdown",
   "id": "48688ccb",
   "metadata": {},
   "source": [
    "A **moda** é o valor que mais se repete em um conjunto de dados. Quando existe apenas um valor que se repete com frequência dizemos que os dados são unimodais. Entretanto isso não significa que outros valores não se repitam frequentemente, podem haver outros e dizemos que os dados são bimodais, ou trimodais, ou multimodais."
   ]
  },
  {
   "cell_type": "code",
   "execution_count": 17,
   "id": "3cf3c686",
   "metadata": {},
   "outputs": [
    {
     "data": {
      "text/plain": [
       "1    2\n",
       "7    2\n",
       "Name: Valores, dtype: int64"
      ]
     },
     "execution_count": 17,
     "metadata": {},
     "output_type": "execute_result"
    }
   ],
   "source": [
    "# utilizando o value_counts()\n",
    "valores = [1, 2, 1, 3, 4, 5, 6, 7, 7, 8]\n",
    "\n",
    "valores = pd.DataFrame(valores, columns=['Valores'])\n",
    "valores['Valores'].value_counts()[0:2]"
   ]
  },
  {
   "cell_type": "code",
   "execution_count": 18,
   "id": "2b44e0b0",
   "metadata": {},
   "outputs": [
    {
     "data": {
      "text/plain": [
       "0    1\n",
       "1    7\n",
       "Name: Valores, dtype: int64"
      ]
     },
     "execution_count": 18,
     "metadata": {},
     "output_type": "execute_result"
    }
   ],
   "source": [
    "# utilizando o pandas\n",
    "valores = [1, 2, 1, 3, 4, 5, 6, 7, 7, 8]\n",
    "\n",
    "valores = pd.DataFrame(valores, columns=['Valores'])\n",
    "valores['Valores'].mode()"
   ]
  },
  {
   "cell_type": "code",
   "execution_count": 19,
   "id": "91e6a20c",
   "metadata": {},
   "outputs": [],
   "source": [
    "# Utilizando funçao\n",
    "\n",
    "# Função: frequencia\n",
    "# Parâmetro(s): uma lista de valores.\n",
    "# Retorno: um dicionário em que cada key é um elemento da lista do parâmetro (não repetido),\n",
    "# com a frequência de ocorrência na lista como value.\n",
    "def frequencia(valores):\n",
    "    # Obter os elementos de valores com a remoção de repetições.\n",
    "    elementos = list(set(valores))\n",
    "    \n",
    "    # Dicionário para armazenar o elemento e a sua respectiva frequencia como value.\n",
    "    frequencia_valores = {}\n",
    "    \n",
    "    # Estrutura para obter a frequencia de cada elemento da lista elementos.\n",
    "    for elemento in elementos:\n",
    "        frequencia = 0\n",
    "        for i in valores:\n",
    "            if i == elemento:\n",
    "                frequencia += 1\n",
    "        frequencia_valores[elemento] = frequencia\n",
    "    \n",
    "    return frequencia_valores"
   ]
  },
  {
   "cell_type": "code",
   "execution_count": 20,
   "id": "e8fbb076",
   "metadata": {},
   "outputs": [],
   "source": [
    "# função: moda\n",
    "# Parâmetro(s): uma lista de valores.\n",
    "# Retorno: uma lista com os valores da medida moda.\n",
    "def moda(valores):\n",
    "    # dicionário com a frequência de cada elemento.\n",
    "    freq = frequencia(valores)\n",
    "    # Elementos da lista.\n",
    "    chaves = list(freq.keys())\n",
    "    # Elemento que mais se repete.\n",
    "    max_valor = max(freq.values())\n",
    "    \n",
    "    # lista para armazenar os valores de moda.\n",
    "    moda = []\n",
    "    \n",
    "    if max_valor != 1:\n",
    "        # Estrutura de repetição para obter os valores de moda.\n",
    "        for chave in chaves:\n",
    "            elemento = freq[chave]\n",
    "\n",
    "            if elemento == max_valor:\n",
    "                moda.append(chave)\n",
    "            \n",
    "    return moda"
   ]
  },
  {
   "cell_type": "code",
   "execution_count": 21,
   "id": "94385ae3",
   "metadata": {},
   "outputs": [
    {
     "name": "stdout",
     "output_type": "stream",
     "text": [
      "O(s) valor(es) é/são:\n",
      "1\n",
      "7\n"
     ]
    }
   ],
   "source": [
    "valores = [1, 2, 1, 3, 4, 5, 6, 7, 7, 8]\n",
    "\n",
    "valores_moda = moda(valores)\n",
    "\n",
    "print(f'O(s) valor(es) é/são:')\n",
    "\n",
    "for valor in valores_moda:\n",
    "    print(valor)"
   ]
  },
  {
   "cell_type": "markdown",
   "id": "c42b9618",
   "metadata": {},
   "source": [
    "## Referências:\n",
    "\n",
    "BUSSAB, Wilton de O.; MORETTIN, Pedro A. Estatística Básica. 5ª edição. São Paulo: Editora Saraiva. 2004."
   ]
  }
 ],
 "metadata": {
  "kernelspec": {
   "display_name": "Python 3 (ipykernel)",
   "language": "python",
   "name": "python3"
  },
  "language_info": {
   "codemirror_mode": {
    "name": "ipython",
    "version": 3
   },
   "file_extension": ".py",
   "mimetype": "text/x-python",
   "name": "python",
   "nbconvert_exporter": "python",
   "pygments_lexer": "ipython3",
   "version": "3.9.12"
  }
 },
 "nbformat": 4,
 "nbformat_minor": 5
}
