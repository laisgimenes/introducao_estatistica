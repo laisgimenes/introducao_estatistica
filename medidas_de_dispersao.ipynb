{
 "cells": [
  {
   "cell_type": "markdown",
   "id": "57716aa4",
   "metadata": {},
   "source": [
    "# 3. Medidas de Dispersão\n",
    "<hr></hr>"
   ]
  },
  {
   "cell_type": "markdown",
   "id": "e17a05bf",
   "metadata": {},
   "source": [
    "As **medidas de dispersão** quantificam a dispersão, a variabilidade do conjunto de dados. Ajudam a compreender o quão dispersos os valores estão das medidas de tendência central(por exemplo a média)."
   ]
  },
  {
   "cell_type": "markdown",
   "id": "ceb61b31",
   "metadata": {},
   "source": [
    "## Variância"
   ]
  },
  {
   "cell_type": "markdown",
   "id": "7fa6df8b",
   "metadata": {},
   "source": [
    "A **variância** é uma medida que indica o quanto os valores variam em torno da média. Valores maiores indicam uma maior dispersão dos valores.\n",
    "\n",
    "A fórmula para calcular a variância é dada por:\n",
    "\n",
    "\n",
    "## $ \\sigma^2 = \\frac{\\sum \\limits _{i=1} ^{n} (X_{i} - \\mu)^2}{n} $"
   ]
  },
  {
   "cell_type": "code",
   "execution_count": 1,
   "id": "3b57e4cc",
   "metadata": {},
   "outputs": [],
   "source": [
    "# Criando uma função que calcula a média:\n",
    "def media_aritmetica(valores):\n",
    "    soma = 0\n",
    "    n = len(valores)\n",
    "    \n",
    "    for i in range(0,n):\n",
    "        soma += valores[i]\n",
    "    \n",
    "    media = soma / n\n",
    "    \n",
    "    return media"
   ]
  },
  {
   "cell_type": "code",
   "execution_count": 2,
   "id": "61328f42",
   "metadata": {},
   "outputs": [],
   "source": [
    "def variancia(valores):\n",
    "    media = media_aritmetica(valores)\n",
    "    n = len(valores)\n",
    "    variancia = 0\n",
    "    \n",
    "    for valor in valores:\n",
    "        desvio = (valor - media)** 2\n",
    "        variancia += desvio\n",
    "        \n",
    "    variancia = variancia / n\n",
    "    \n",
    "    return variancia"
   ]
  },
  {
   "cell_type": "code",
   "execution_count": 3,
   "id": "dc97897a",
   "metadata": {},
   "outputs": [
    {
     "name": "stdout",
     "output_type": "stream",
     "text": [
      "0.8984\n"
     ]
    }
   ],
   "source": [
    "valores = [9.5, 10, 8, 7.5, 8.2]\n",
    "variancia = variancia(valores)\n",
    "\n",
    "print(variancia)"
   ]
  },
  {
   "cell_type": "markdown",
   "id": "733a5664",
   "metadata": {},
   "source": [
    "**Obs:** Como a função `.var()` do Pandas nos dá o valor da variância da amostra, ou seja, $ \\hat {\\sigma}^2 = \\frac{\\sum \\limits _{i=1} ^{n} (X_{i} - \\bar{X})^2}{n-1} $, precisamos multiplicar a variância por $ \\frac{(n-1)}{n} $"
   ]
  },
  {
   "cell_type": "code",
   "execution_count": 4,
   "id": "13d33f8d",
   "metadata": {},
   "outputs": [
    {
     "name": "stdout",
     "output_type": "stream",
     "text": [
      "0.8984\n"
     ]
    }
   ],
   "source": [
    "# Utilizando o pandas:\n",
    "\n",
    "import pandas as pd\n",
    "\n",
    "valores = [9.5, 10, 8, 7.5, 8.2]\n",
    "valores = pd.DataFrame(valores, columns=['Valores'])\n",
    "n = len(valores)\n",
    "print(round(valores['Valores'].var()*((n-1)/n),4))"
   ]
  },
  {
   "cell_type": "markdown",
   "id": "6f7b57cf",
   "metadata": {},
   "source": [
    "## Desvio Padrão"
   ]
  },
  {
   "cell_type": "markdown",
   "id": "a68a20e9",
   "metadata": {},
   "source": [
    "O **desvio padrão** é a raiz quadrada da variância e também mede a dispersão dos valores\n",
    "em um conjunto de dados. Ele é expresso na mesma unidade de medida dos valores originais, o\n",
    "que o torna mais fácil de interpretar em comparação com a variância. Um desvio padrão menor\n",
    "indica que os valores estão mais próximos da média.\n",
    "\n",
    "A fórmula para calcular o desvio padrão é dada por:\n",
    "\n",
    "## $ \\sigma = \\sqrt\\frac{\\sum \\limits _{i=1} ^{n} (X_{i} - \\mu)^2}{n} $"
   ]
  },
  {
   "cell_type": "code",
   "execution_count": 5,
   "id": "cf154bd1",
   "metadata": {},
   "outputs": [],
   "source": [
    "def desvio_padrao(val):\n",
    "    \n",
    "    if len(val) < 2:\n",
    "            raise ValueError(\"A lista de valores deve conter pelo menos dois elementos para calcular o desvio padrão.\")\n",
    "\n",
    "    # Calcula a média dos valores\n",
    "    medi= sum(val) / len(val)\n",
    "\n",
    "    # Calcula a soma dos quadrados das diferenças entre cada valor e a média\n",
    "    soma_quadrados_diferencas = sum((x - medi) ** 2 for x in val)\n",
    "\n",
    "    # Divide a soma pelo número de elementos menos 1 e tira a raiz quadrada\n",
    "    desvio_padrao = (soma_quadrados_diferencas / (len(val))) ** 0.5\n",
    "\n",
    "    return desvio_padrao"
   ]
  },
  {
   "cell_type": "code",
   "execution_count": 6,
   "id": "3fdd1988",
   "metadata": {},
   "outputs": [
    {
     "name": "stdout",
     "output_type": "stream",
     "text": [
      "0.9478396488858228\n"
     ]
    }
   ],
   "source": [
    "valores = [9.5, 10, 8, 7.5, 8.2]\n",
    "\n",
    "dp = desvio_padrao(valores)\n",
    "\n",
    "print(dp)"
   ]
  },
  {
   "cell_type": "markdown",
   "id": "c5647f6e",
   "metadata": {},
   "source": [
    "**Obs:** Como a função `.std()` do Pandas nos dá o valor da variância da amostra, ou seja, $ \\hat\\sigma = \\sqrt\\frac{\\sum \\limits _{i=1} ^{n} (X_{i} - \\bar{X})^2}{n-1} $, precisamos multiplicar a variância por $ \\frac{(n-1)}{n}(0.5)$"
   ]
  },
  {
   "cell_type": "code",
   "execution_count": 7,
   "id": "dafafa19",
   "metadata": {},
   "outputs": [
    {
     "name": "stdout",
     "output_type": "stream",
     "text": [
      "0.947839648885823\n"
     ]
    }
   ],
   "source": [
    "# Utilizando o pandas:\n",
    "\n",
    "import pandas as pd\n",
    "\n",
    "n = len(valores)\n",
    "valores = pd.DataFrame(valores, columns=['Valores'])\n",
    "v = valores['Valores'].std()\n",
    "print(v*((n-1)/n)**0.5)"
   ]
  },
  {
   "cell_type": "markdown",
   "id": "1c6d106c",
   "metadata": {},
   "source": [
    "## Desvio Médio Absoluto"
   ]
  },
  {
   "cell_type": "markdown",
   "id": "48f4fc75",
   "metadata": {},
   "source": [
    "O **desvio médio absoluto** é a média do valor absoluto dos desvios da média. Para calcular essa medida tomamos os desvios, colocamos em valores absolutos, somamos todos e dividimos pelo número de observações. Ao utilizar valores absolutos a soma dos desvios não será zero.\n",
    "\n",
    "A fórmula para calcular o desvio médio absoluto é dada por:\n",
    "\n",
    "## $DM = \\frac{\\sum \\limits _{i=1} ^{n} |X_{i} - \\bar{X}|}{n} $"
   ]
  },
  {
   "cell_type": "code",
   "execution_count": 8,
   "id": "5eb2d066",
   "metadata": {},
   "outputs": [],
   "source": [
    "# Criando uma função que calcula a média:\n",
    "def media_aritmetica(valores):\n",
    "    soma = 0\n",
    "    n = len(valores)\n",
    "    \n",
    "    for i in range(0,n):\n",
    "        soma += valores[i]\n",
    "    \n",
    "    media = soma / n\n",
    "    \n",
    "    return media"
   ]
  },
  {
   "cell_type": "code",
   "execution_count": 9,
   "id": "565407a2",
   "metadata": {},
   "outputs": [],
   "source": [
    "# Criando uma função que calcula o desvio medio absoluto:\n",
    "\n",
    "def desvio_medio(valores):\n",
    "    media = media_aritmetica(valores)\n",
    "    n = len(valores)\n",
    "    dm = 0\n",
    "    \n",
    "    for valor in valores:\n",
    "        desvio = abs(valor - media)\n",
    "        dm += desvio\n",
    "        \n",
    "    dm = dm / n\n",
    "    return dm"
   ]
  },
  {
   "cell_type": "code",
   "execution_count": 10,
   "id": "5869f296",
   "metadata": {},
   "outputs": [
    {
     "name": "stdout",
     "output_type": "stream",
     "text": [
      "0.8880000000000002\n"
     ]
    }
   ],
   "source": [
    "valores = [9.5, 10, 8, 7.5, 8.2]\n",
    "dm = desvio_medio(valores)\n",
    "\n",
    "print(dm)"
   ]
  },
  {
   "cell_type": "code",
   "execution_count": 11,
   "id": "ae75b7f8",
   "metadata": {},
   "outputs": [
    {
     "name": "stdout",
     "output_type": "stream",
     "text": [
      "0.8880000000000002\n"
     ]
    }
   ],
   "source": [
    "# utilizando o pandas:\n",
    "\n",
    "import pandas as pd\n",
    "\n",
    "valores = pd.DataFrame(valores, columns=['Valores'])\n",
    "\n",
    "# print(valores['Valores'].mad()) # Função mad() será removida em futuras versões\n",
    "print((valores['Valores'] - valores['Valores'].mean()).abs().mean())"
   ]
  },
  {
   "cell_type": "markdown",
   "id": "5b72fc63",
   "metadata": {},
   "source": [
    "## Referências:\n",
    "\n",
    "BUSSAB, Wilton de O.; MORETTIN, Pedro A. Estatística Básica. 5ª edição. São Paulo: Editora Saraiva. 2004."
   ]
  }
 ],
 "metadata": {
  "kernelspec": {
   "display_name": "Python 3 (ipykernel)",
   "language": "python",
   "name": "python3"
  },
  "language_info": {
   "codemirror_mode": {
    "name": "ipython",
    "version": 3
   },
   "file_extension": ".py",
   "mimetype": "text/x-python",
   "name": "python",
   "nbconvert_exporter": "python",
   "pygments_lexer": "ipython3",
   "version": "3.9.12"
  }
 },
 "nbformat": 4,
 "nbformat_minor": 5
}
